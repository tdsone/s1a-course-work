{
 "cells": [
  {
   "cell_type": "code",
   "execution_count": 5,
   "metadata": {},
   "outputs": [],
   "source": [
    "import numpy as np\n",
    "import numpy as np\n",
    "import scipy.integrate\n",
    "from timeit import default_timer as timer\n",
    "import matplotlib.pyplot as plt\n",
    "%matplotlib inline"
   ]
  },
  {
   "cell_type": "code",
   "execution_count": 3,
   "metadata": {},
   "outputs": [],
   "source": [
    "# Steady state concentrations\n",
    "def A(k1, k2):\n",
    "    return k2 / k1\n",
    "\n",
    "\n",
    "def B(X0, k1, k2, k3, k4):\n",
    "    numerator = (k1 * X0 - k2) * (k3 * k4)\n",
    "    denominator = k1 * (k3 * k4 + k2 * k4 + k2 * k3)\n",
    "    return numerator / denominator\n",
    "\n",
    "\n",
    "def C(X0, k1, k2, k3, k4):\n",
    "    numerator = (k1 * X0 - k2) * (k2 * k4)\n",
    "    denominator = k1 * (k3 * k4 + k2 * k4 + k2 * k3)\n",
    "    return numerator / denominator\n",
    "\n",
    "\n",
    "def D(X0, k1, k2, k3, k4):\n",
    "    numerator = (k1 * X0 - k2) * (k3 * k2)\n",
    "    denominator = k1 * (k3 * k4 + k2 * k4 + k2 * k3)\n",
    "    return numerator / denominator\n",
    "\n",
    "\n",
    "def compute_steady_state_concentrations(X0, k1, k2, k3, k4):\n",
    "    A_ = A(k1, k2)\n",
    "    B_ = B(X0, k1, k2, k3, k4)\n",
    "    C_ = C(X0, k1, k2, k3, k4)\n",
    "    D_ = D(X0, k1, k2, k3, k4)\n",
    "    return A_, B_, C_, D_"
   ]
  },
  {
   "cell_type": "code",
   "execution_count": 14,
   "metadata": {},
   "outputs": [
    {
     "data": {
      "text/plain": [
       "(2.0, 5.076923076923077, 3.384615384615385, 2.5384615384615383)"
      ]
     },
     "execution_count": 14,
     "metadata": {},
     "output_type": "execute_result"
    }
   ],
   "source": [
    "k1 = 0.1\n",
    "k2 = 0.2\n",
    "k3 = 0.3\n",
    "k4 = 0.4\n",
    "A0 = 7\n",
    "B0 = 1\n",
    "C0 = 2\n",
    "D0 = 3\n",
    "\n",
    "X0 = sum([A0, B0, C0, D0])\n",
    "\n",
    "compute_steady_state_concentrations(X0, k1, k2, k3, k4)"
   ]
  },
  {
   "cell_type": "code",
   "execution_count": 15,
   "metadata": {},
   "outputs": [],
   "source": [
    "def dydt(t, y, k1, k2, k3, k4):\n",
    "    A, B, C, D = y\n",
    "    dAdt = k4 * D - k1 * A * B\n",
    "    dBdt = k1 * A * B - k2 * B\n",
    "    dCdt = k2 * B - k3 * C\n",
    "    dDdt = k3 * C - k4 * D\n",
    "    return (dAdt, dBdt, dCdt, dDdt)\n",
    "\n",
    "\n",
    "def euler(dydt, time_interval, y0, k1, k2):\n",
    "    Y = [y0]\n",
    "    dt = 0.001  # integration step\n",
    "    t_start = time_interval[0]\n",
    "    t_max = time_interval[1]\n",
    "    T = [t_start]\n",
    "    while t_start <= t_max:\n",
    "        Y.append(Y[-1] + np.multiply(dt, dydt(t_start, Y[-1], k1, k2)))\n",
    "        t_start = t_start + dt\n",
    "        T.append(t_start)\n",
    "\n",
    "    return (T, Y)"
   ]
  },
  {
   "cell_type": "code",
   "execution_count": 16,
   "metadata": {},
   "outputs": [],
   "source": [
    "def dydt_withks(t, y):\n",
    "    return dydt(t, y, k1, k2, k3, k4)"
   ]
  },
  {
   "cell_type": "code",
   "execution_count": 17,
   "metadata": {},
   "outputs": [
    {
     "name": "stdout",
     "output_type": "stream",
     "text": [
      "time for ODE45,  0.004600582993589342\n",
      "Equilibrium points of A, B, C, D\n",
      "1.6500198896276983 5.35469054224073 3.5577463531683176 2.437543214963254\n"
     ]
    }
   ],
   "source": [
    "start = timer()\n",
    "solution = scipy.integrate.solve_ivp(\n",
    "    dydt_withks, t_span=(0, 10), y0=(A0, B0, C0, D0), method=\"RK45\", rtol=1e-6\n",
    ")\n",
    "end = timer()\n",
    "time_for_num_int_by_ode45 = end - start\n",
    "print(\"time for ODE45, \", time_for_num_int_by_ode45)\n",
    "\n",
    "t_ode45 = solution.t\n",
    "A_ode45 = solution.y[0]\n",
    "B_ode45 = solution.y[1]\n",
    "C_ode45 = solution.y[2]\n",
    "D_ode45 = solution.y[3]\n",
    "print(\"Equilibrium points of A, B, C, D\")\n",
    "print(A_ode45[-1], B_ode45[-1], C_ode45[-1], D_ode45[-1])"
   ]
  },
  {
   "cell_type": "code",
   "execution_count": null,
   "metadata": {},
   "outputs": [],
   "source": [
    "fig = plt.figure()\n",
    "ax = fig.add_subplot(1, 1, 1)\n",
    "ax.plot(t_ode45, (A_ode45), color='tab:blue', label='A(t)')\n",
    "ax.plot(t_ode45, (B_ode45), color='tab:orange', label='B(t)')\n",
    "ax.set_title('OD45 solution')\n",
    "ax.set_xlabel('time')\n",
    "ax.set_ylabel('solution')\n",
    "ax.legend()\n",
    "plt.show()"
   ]
  },
  {
   "cell_type": "code",
   "execution_count": null,
   "metadata": {},
   "outputs": [],
   "source": []
  }
 ],
 "metadata": {
  "kernelspec": {
   "display_name": "data-science",
   "language": "python",
   "name": "python3"
  },
  "language_info": {
   "codemirror_mode": {
    "name": "ipython",
    "version": 3
   },
   "file_extension": ".py",
   "mimetype": "text/x-python",
   "name": "python",
   "nbconvert_exporter": "python",
   "pygments_lexer": "ipython3",
   "version": "3.10.2"
  }
 },
 "nbformat": 4,
 "nbformat_minor": 2
}
